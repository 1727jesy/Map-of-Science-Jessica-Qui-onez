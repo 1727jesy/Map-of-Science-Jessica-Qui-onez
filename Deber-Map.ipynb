{
 "cells": [
  {
   "cell_type": "markdown",
   "id": "a7d3cb7b-d29c-41ea-b310-12f1dc15bd32",
   "metadata": {},
   "source": [
    "<img src=\"https://www.ikiam.edu.ec/img/logo-ikiam-grey.png\" width=300 height=240 />\n",
    "\n",
    "# Deber Map of Science\n",
    "\n",
    "## GBI6-2021II: BIOINFORMÁTICA\n",
    "\n",
    "**NOMBRE** Jessica Quiñonez\n",
    "\n",
    "**FECHA** 17/02/2022"
   ]
  },
  {
   "cell_type": "markdown",
   "id": "2351b567-7a6b-4b76-9231-337654dc2ccf",
   "metadata": {},
   "source": [
    "# T5_Mapa de Ciencia\n",
    "\n",
    "## Basado en las sesiones de Visualización de datos y Expresiones resulares. Realice una adaptación de la solución del MAP OF SCIENCE. Se requiere dos adaptaciones para resolver esta actividad:\n",
    "\n",
    "* Buscar bibliografía de un tema de interés propio en la Página Web de PubMed,\n",
    "\n",
    "* Realizar el minado de autores por país (en el ejemplo se encuentra realziado por las ciudades de USA). Para asignar las ubicación geográfica de los centroides de cada país (latitud y longitud), utilice la tabla  Ubicación Geográfica de Países - Google Developer. Así como en la solución de referencia se señalan varias ciudades seleccionadas de USA, en su resolución señale/resalte a los siguientes países: USA, UK, Brazil, China, Australia, Norway.  \n",
    "\n",
    "## Cargue su cuaderno de Jupyter en GitHub, asegurandose de lo siguiente:\n",
    "\n",
    "* en el documento se puede ver con claridad el Mapa de Ciencia de su tema de interés.\n",
    "\n",
    "* la figura tiene etiquetas adecuadas en los ejes de la visualización. \n",
    "\n",
    "* se tiene al menos tres controles de la versión (3 commit con mensajes adecuados sobre la versión)"
   ]
  },
  {
   "cell_type": "code",
   "execution_count": 1,
   "id": "2ffffa73-8508-4393-8478-bacbc2865eb9",
   "metadata": {},
   "outputs": [],
   "source": [
    "#Se declaran las importaciones de los modulos de la clase re oara cambiar los espacios entre lineas\n",
    "#y buscar el patron de interes\n",
    "import re\n",
    "#Se abre el documento previamente descargado de PubMed donde se realiza el mapeo de autores\n",
    "#Se usa encoding=\"utf8\" para abrir el archivo \".txt\", ya que esta guardado en ese tipo de codificacion\n",
    "with open(\"pubmed-clonalevol-set.txt\", encoding=\"utf8\") as f:\n",
    "    clonalevolT = f.read()\n",
    "#Se mide el archivo para saber cual es el tamaño antes de cambiar los saltos de linea por espacios con ayuda de re.sub\n",
    "len(clonalevolT) \n",
    "#Se cambian los saltos de lienas por un espacio\n",
    "clonalevolSinSaltos = re.sub(r'\\n\\s{6}', ' ', clonalevolT)"
   ]
  },
  {
   "cell_type": "code",
   "execution_count": null,
   "id": "98089485-50ab-4a17-a9ae-de67a30d296c",
   "metadata": {},
   "outputs": [],
   "source": []
  },
  {
   "cell_type": "code",
   "execution_count": 2,
   "id": "28b0589e-3950-4be2-b06a-f6d5b08919ad",
   "metadata": {},
   "outputs": [],
   "source": [
    "#Se ingresan los patrones mas comunes por la dimension del archivo, es dificil leer todos\n",
    "#Pais al final de una palabra\n",
    "paisesAlFinal1 = re.findall(r'\\,\\s(\\w{2,16})\\.\\n', clonalevolSinSaltos)\n",
    "#Pais al final de dos palabras\n",
    "paisesAlFinal2 = re.findall(r'\\,\\s(\\w{2,16}[^0-9\\,]\\s\\w{2,16}[^0-9])\\.\\n', clonalevolSinSaltos)\n",
    "#Pais al final de tres palabras\n",
    "paisesAlFinal3 = re.findall(r'\\,\\s(\\w{3,16}[^0-9\\,]\\s\\w{2,3}[^0-9\\,]\\s\\w{3,16}[^0-9\\,])\\.\\n', clonalevolSinSaltos)\n",
    "#Pais al final de una palabra y correo sin EA\n",
    "paisesAlFinalSinEA1 = re.findall(r'\\,\\s(\\w{2,16})\\.\\s[a-z0-9_\\.-]+@[\\da-z\\.-]+\\.[a-z\\.]{2,6}\\.\\n', clonalevolSinSaltos)\n",
    "#Pais al final de dos palabras y correo sin EA\n",
    "paisesAlFinalSinEA2 = re.findall(r'\\,\\s(\\w{2,16}[^0-9\\,]\\s\\w{2,16}[^0-9])\\.\\s[a-z0-9_\\.-]+@[\\da-z\\.-]+\\.[a-z\\.]{2,6}\\.\\n', clonalevolSinSaltos)\n",
    "#Pais al final de tres palabras y correo sin EA\n",
    "paisesAlFinalSinEA3 = re.findall(r'\\,\\s(\\w{3,16}[^0-9\\,]\\s\\w{2,3}[^0-9\\,]\\s\\w{3,16}[^0-9\\,])\\.\\s[a-z0-9_\\.-]+@[\\da-z\\.-]+\\.[a-z\\.]{2,6}\\.\\n', clonalevolSinSaltos)\n",
    "#Pais al final de una palabra y correo con EA\n",
    "paisesAlFinalConEA1 = re.findall(r'\\,\\s(\\w{2,16})\\. Electronic address:\\s[a-z0-9_\\.-]+@[\\da-z\\.-]+\\.[a-z\\.]{2,6}\\.\\n', clonalevolSinSaltos)\n",
    "#Pais al final de dos palabras y correo con EA\n",
    "paisesAlFinalConEA2 = re.findall(r'\\,\\s(\\w{2,16}[^0-9\\,]\\s\\w{2,16}[^0-9])\\. Electronic address:\\s[a-z0-9_\\.-]+@[\\da-z\\.-]+\\.[a-z\\.]{2,6}\\.\\n', clonalevolSinSaltos)\n",
    "#Pais al final de tres palabras y correo con EA\n",
    "paisesAlFinalConEA3 = re.findall(r'\\,\\s(\\w{3,16}[^0-9\\,]\\s\\w{2,3}[^0-9\\,]\\s\\w{3,16}[^0-9\\,])\\. Electronic address:\\s[a-z0-9_\\.-]+@[\\da-z\\.-]+\\.[a-z\\.]{2,6}\\.\\n', clonalevolSinSaltos)\n",
    "#Pais al final de una palabra y numero antes\n",
    "paisesAlFinalConNum1 = re.findall(r'\\,\\s\\w{3,9}[0-9\\-]\\,\\s(\\w{2,16})\\.\\n', clonalevolSinSaltos)\n",
    "#Pais al final de dos palabras y numero antes\n",
    "paisesAlFinalConNum2 = re.findall(r'\\,\\s\\w{3,9}[0-9\\-]\\,\\s(\\w{2,16}[^0-9\\,]\\s\\w{2,16}[^0-9])\\.\\n', clonalevolSinSaltos)\n",
    "#Pais al final de tres palabras y numero antes\n",
    "paisesAlFinalConNum3 = re.findall(r'\\,\\s\\w{3,9}[0-9\\-]\\,\\s(\\w{3,16}[^0-9\\,]\\s\\w{2,3}[^0-9\\,]\\s\\w{3,16}[^0-9\\,])\\.\\n', clonalevolSinSaltos)\n",
    "#print(paisesAlFinal1)\n",
    "\n",
    "#Al existir errores por la cantidad de datos no se usa | para unir en un solo bucle todos los patrones\n",
    "#En alternativa se une todos en una sola lista\n",
    "paisesTodosPatrones=paisesAlFinal1+paisesAlFinal2+paisesAlFinal3+paisesAlFinalSinEA1+paisesAlFinalSinEA2+paisesAlFinalSinEA3+paisesAlFinalConEA1+paisesAlFinalConEA2+paisesAlFinalConEA3+paisesAlFinalConNum1+paisesAlFinalConNum2+paisesAlFinalConNum3\n",
    "#print(paises)"
   ]
  },
  {
   "cell_type": "code",
   "execution_count": null,
   "id": "2ddb2985-86c5-40aa-80a7-eff287f9a548",
   "metadata": {},
   "outputs": [],
   "source": []
  },
  {
   "cell_type": "code",
   "execution_count": 3,
   "id": "614c1c77-9332-42c3-99d5-bc0554e7da4b",
   "metadata": {},
   "outputs": [
    {
     "name": "stdout",
     "output_type": "stream",
     "text": [
      "['USA', 'Japan', 'USA', 'Switzerland', 'Switzerland', 'USA', 'USA', 'Switzerland', 'Switzerland', 'USA']\n"
     ]
    },
    {
     "data": {
      "text/plain": [
       "449"
      ]
     },
     "execution_count": 3,
     "metadata": {},
     "output_type": "execute_result"
    }
   ],
   "source": [
    "#A continuacion se creara unan lista ordenada de los paises, sin repetirlos\n",
    "len(paisesTodosPatrones)\n",
    "#10 primeros paises\n",
    "print(paisesTodosPatrones[:10])\n",
    "unique_paisesTodosPatrones = list(set(paisesTodosPatrones))\n",
    "unique_paisesTodosPatrones.sort()\n",
    "len(unique_paisesTodosPatrones)"
   ]
  },
  {
   "cell_type": "code",
   "execution_count": 4,
   "id": "ef8988e6-3bd6-4985-8f26-9a9d1c6e78c4",
   "metadata": {},
   "outputs": [],
   "source": [
    "#Se importa la liberia capaz de abrir y leer las columas y filas de la tabala de coordenadas del mundo para asiganarlas a un diccionario\n",
    "import csv\n",
    "#Declarar diccionario vacio\n",
    "coordenadas = {}\n",
    "#Abrir el archivo de coordenadas\n",
    "with open('coordenadas.txt') as f:\n",
    "    csvr = csv.DictReader(f)\n",
    "    for row in csvr:\n",
    "        coordenadas[row['Name']] = [row['Latitude'], row['Longitude']]\n",
    "#print(coordenadas)"
   ]
  },
  {
   "cell_type": "code",
   "execution_count": null,
   "id": "3c023c8c-868d-462f-9536-38885774193f",
   "metadata": {},
   "outputs": [],
   "source": []
  },
  {
   "cell_type": "code",
   "execution_count": null,
   "id": "3e784ff9-9c19-4327-9c83-6b1827687822",
   "metadata": {},
   "outputs": [],
   "source": []
  }
 ],
 "metadata": {
  "kernelspec": {
   "display_name": "Python 3",
   "language": "python",
   "name": "python3"
  },
  "language_info": {
   "codemirror_mode": {
    "name": "ipython",
    "version": 3
   },
   "file_extension": ".py",
   "mimetype": "text/x-python",
   "name": "python",
   "nbconvert_exporter": "python",
   "pygments_lexer": "ipython3",
   "version": "3.8.8"
  }
 },
 "nbformat": 4,
 "nbformat_minor": 5
}
