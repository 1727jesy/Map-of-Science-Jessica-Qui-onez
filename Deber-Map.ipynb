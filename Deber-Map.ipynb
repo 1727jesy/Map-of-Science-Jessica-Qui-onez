{
 "cells": [
  {
   "cell_type": "markdown",
   "id": "a7d3cb7b-d29c-41ea-b310-12f1dc15bd32",
   "metadata": {},
   "source": [
    "<img src=\"https://www.ikiam.edu.ec/img/logo-ikiam-grey.png\" width=300 height=240 />\n",
    "\n",
    "# Deber Map of Science\n",
    "\n",
    "## GBI6-2021II: BIOINFORMÁTICA\n",
    "\n",
    "**NOMBRE** Jessica Quiñonez\n",
    "\n",
    "**FECHA** 17/02/2022"
   ]
  },
  {
   "cell_type": "markdown",
   "id": "2351b567-7a6b-4b76-9231-337654dc2ccf",
   "metadata": {},
   "source": [
    "# T5_Mapa de Ciencia\n",
    "\n",
    "## Basado en las sesiones de Visualización de datos y Expresiones resulares. Realice una adaptación de la solución del MAP OF SCIENCE. Se requiere dos adaptaciones para resolver esta actividad:\n",
    "\n",
    "* Buscar bibliografía de un tema de interés propio en la Página Web de PubMed,\n",
    "\n",
    "* Realizar el minado de autores por país (en el ejemplo se encuentra realziado por las ciudades de USA). Para asignar las ubicación geográfica de los centroides de cada país (latitud y longitud), utilice la tabla  Ubicación Geográfica de Países - Google Developer. Así como en la solución de referencia se señalan varias ciudades seleccionadas de USA, en su resolución señale/resalte a los siguientes países: USA, UK, Brazil, China, Australia, Norway.  \n",
    "\n",
    "## Cargue su cuaderno de Jupyter en GitHub, asegurandose de lo siguiente:\n",
    "\n",
    "* en el documento se puede ver con claridad el Mapa de Ciencia de su tema de interés.\n",
    "\n",
    "* la figura tiene etiquetas adecuadas en los ejes de la visualización. \n",
    "\n",
    "* se tiene al menos tres controles de la versión (3 commit con mensajes adecuados sobre la versión)"
   ]
  },
  {
   "cell_type": "code",
   "execution_count": 1,
   "id": "2ffffa73-8508-4393-8478-bacbc2865eb9",
   "metadata": {},
   "outputs": [],
   "source": [
    "#Se declaran las importaciones de los modulos de la clase re oara cambiar los espacios entre lineas\n",
    "#y buscar el patron de interes\n",
    "import re\n",
    "#Se abre el documento previamente descargado de PubMed donde se realiza el mapeo de autores\n",
    "#Se usa encoding=\"utf8\" para abrir el archivo \".txt\", ya que esta guardado en ese tipo de codificacion\n",
    "with open(\"pubmed-clonalevol-set.txt\", encoding=\"utf8\") as f:\n",
    "    clonalevolT = f.read()\n",
    "#Se mide el archivo para saber cual es el tamaño antes de cambiar los saltos de linea por espacios con ayuda de re.sub\n",
    "len(clonalevolT) \n",
    "#Se cambian los saltos de lienas por un espacio\n",
    "clonalevolSinSaltos = re.sub(r'\\n\\s{6}', ' ', clonalevolT)"
   ]
  },
  {
   "cell_type": "code",
   "execution_count": null,
   "id": "98089485-50ab-4a17-a9ae-de67a30d296c",
   "metadata": {},
   "outputs": [],
   "source": []
  }
 ],
 "metadata": {
  "kernelspec": {
   "display_name": "Python 3",
   "language": "python",
   "name": "python3"
  },
  "language_info": {
   "codemirror_mode": {
    "name": "ipython",
    "version": 3
   },
   "file_extension": ".py",
   "mimetype": "text/x-python",
   "name": "python",
   "nbconvert_exporter": "python",
   "pygments_lexer": "ipython3",
   "version": "3.8.8"
  }
 },
 "nbformat": 4,
 "nbformat_minor": 5
}
