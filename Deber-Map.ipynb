{
 "cells": [
  {
   "cell_type": "markdown",
   "id": "a7d3cb7b-d29c-41ea-b310-12f1dc15bd32",
   "metadata": {},
   "source": [
    "<img src=\"https://www.ikiam.edu.ec/img/logo-ikiam-grey.png\" width=300 height=240 />\n",
    "\n",
    "# Deber Map of Science\n",
    "\n",
    "## GBI6-2021II: BIOINFORMÁTICA\n",
    "\n",
    "**NOMBRE** Jessica Quiñonez\n",
    "\n",
    "**FECHA** 17/02/2022"
   ]
  },
  {
   "cell_type": "markdown",
   "id": "2351b567-7a6b-4b76-9231-337654dc2ccf",
   "metadata": {},
   "source": [
    "# T5_Mapa de Ciencia\n",
    "\n",
    "## Basado en las sesiones de Visualización de datos y Expresiones resulares. Realice una adaptación de la solución del MAP OF SCIENCE. Se requiere dos adaptaciones para resolver esta actividad:\n",
    "\n",
    "* Buscar bibliografía de un tema de interés propio en la Página Web de PubMed,\n",
    "\n",
    "* Realizar el minado de autores por país (en el ejemplo se encuentra realziado por las ciudades de USA). Para asignar las ubicación geográfica de los centroides de cada país (latitud y longitud), utilice la tabla  Ubicación Geográfica de Países - Google Developer. Así como en la solución de referencia se señalan varias ciudades seleccionadas de USA, en su resolución señale/resalte a los siguientes países: USA, UK, Brazil, China, Australia, Norway.  \n",
    "\n",
    "## Cargue su cuaderno de Jupyter en GitHub, asegurandose de lo siguiente:\n",
    "\n",
    "* en el documento se puede ver con claridad el Mapa de Ciencia de su tema de interés.\n",
    "\n",
    "* la figura tiene etiquetas adecuadas en los ejes de la visualización. \n",
    "\n",
    "* se tiene al menos tres controles de la versión (3 commit con mensajes adecuados sobre la versión)"
   ]
  },
  {
   "cell_type": "code",
   "execution_count": null,
   "id": "4a3851ed-7a19-4068-b1bf-091f692a4754",
   "metadata": {},
   "outputs": [],
   "source": []
  }
 ],
 "metadata": {
  "kernelspec": {
   "display_name": "Python 3",
   "language": "python",
   "name": "python3"
  },
  "language_info": {
   "codemirror_mode": {
    "name": "ipython",
    "version": 3
   },
   "file_extension": ".py",
   "mimetype": "text/x-python",
   "name": "python",
   "nbconvert_exporter": "python",
   "pygments_lexer": "ipython3",
   "version": "3.8.8"
  }
 },
 "nbformat": 4,
 "nbformat_minor": 5
}
